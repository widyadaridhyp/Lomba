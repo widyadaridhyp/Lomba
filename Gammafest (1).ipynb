{
 "cells": [
  {
   "cell_type": "code",
   "execution_count": 4,
   "metadata": {
    "colab": {
     "base_uri": "https://localhost:8080/"
    },
    "id": "g98nhT0VE7Na",
    "outputId": "e33971d6-f6da-4144-ad7b-1de25b190cbc"
   },
   "outputs": [
    {
     "name": "stdout",
     "output_type": "stream",
     "text": [
      "Requirement already satisfied: lazypredict in d:\\program\\anaconda3\\lib\\site-packages (0.2.12)Note: you may need to restart the kernel to use updated packages.\n",
      "Requirement already satisfied: pandas in d:\\program\\anaconda3\\lib\\site-packages (from lazypredict) (1.2.4)\n",
      "Requirement already satisfied: scikit-learn in d:\\program\\anaconda3\\lib\\site-packages (from lazypredict) (1.2.2)\n",
      "Requirement already satisfied: click in d:\\program\\anaconda3\\lib\\site-packages (from lazypredict) (7.1.2)\n",
      "Requirement already satisfied: joblib in d:\\program\\anaconda3\\lib\\site-packages (from lazypredict) (1.2.0)\n",
      "Requirement already satisfied: xgboost in d:\\program\\anaconda3\\lib\\site-packages (from lazypredict) (1.7.5)\n",
      "Requirement already satisfied: tqdm in d:\\program\\anaconda3\\lib\\site-packages (from lazypredict) (4.59.0)\n",
      "Requirement already satisfied: lightgbm in d:\\program\\anaconda3\\lib\\site-packages (from lazypredict) (3.3.5)\n",
      "Requirement already satisfied: numpy in d:\\program\\anaconda3\\lib\\site-packages (from lightgbm->lazypredict) (1.20.1)\n",
      "Requirement already satisfied: scipy in d:\\program\\anaconda3\\lib\\site-packages (from lightgbm->lazypredict) (1.6.2)\n",
      "Requirement already satisfied: wheel in d:\\program\\anaconda3\\lib\\site-packages (from lightgbm->lazypredict) (0.36.2)\n",
      "\n",
      "Requirement already satisfied: threadpoolctl>=2.0.0 in d:\\program\\anaconda3\\lib\\site-packages (from scikit-learn->lazypredict) (2.1.0)\n",
      "Requirement already satisfied: pytz>=2017.3 in d:\\program\\anaconda3\\lib\\site-packages (from pandas->lazypredict) (2021.1)\n",
      "Requirement already satisfied: python-dateutil>=2.7.3 in d:\\program\\anaconda3\\lib\\site-packages (from pandas->lazypredict) (2.8.1)\n",
      "Requirement already satisfied: six>=1.5 in d:\\program\\anaconda3\\lib\\site-packages (from python-dateutil>=2.7.3->pandas->lazypredict) (1.15.0)\n"
     ]
    }
   ],
   "source": [
    "import numpy as np\n",
    "import matplotlib.pyplot as plt\n",
    "import pandas as pd\n",
    "import seaborn as sns\n",
    "%pip install lazypredict\n",
    "from lazypredict.Supervised import LazyClassifier\n",
    "from sklearn.model_selection import train_test_split\n",
    "import warnings\n",
    "from lazypredict.Supervised import LazyClassifier\n",
    "from sklearn.datasets import load_breast_cancer\n",
    "from sklearn.model_selection import train_test_split\n",
    "warnings.filterwarnings(\"ignore\")\n",
    "from sklearn import metrics"
   ]
  },
  {
   "cell_type": "code",
   "execution_count": 62,
   "metadata": {
    "id": "MIcfdW-nJ2UF"
   },
   "outputs": [],
   "source": [
    "## Memuat Data\n",
    "import pandas as pd\n",
    "\n",
    "data_test = pd.read_csv(r\"D:\\Widya\\Career\\Lomba\\GAMMAFEST\\water-feasibility-prediction-gammafest\\test.csv\")\n",
    "data_train = pd.read_csv(r\"D:\\Widya\\Career\\Lomba\\GAMMAFEST\\water-feasibility-prediction-gammafest\\train.csv\")\n",
    "data_subm = pd.read_csv(r\"D:\\Widya\\Career\\Lomba\\GAMMAFEST\\water-feasibility-prediction-gammafest\\sample_submission.csv\")"
   ]
  },
  {
   "attachments": {},
   "cell_type": "markdown",
   "metadata": {
    "id": "Puew82TxOvdN"
   },
   "source": [
    "# Checking Missing Value"
   ]
  },
  {
   "cell_type": "code",
   "execution_count": 6,
   "metadata": {
    "colab": {
     "base_uri": "https://localhost:8080/"
    },
    "id": "DufMFpVgbc3d",
    "outputId": "2182dead-d3d5-47ec-dc7d-bc32f642773b"
   },
   "outputs": [
    {
     "name": "stdout",
     "output_type": "stream",
     "text": [
      "<class 'pandas.core.frame.DataFrame'>\n",
      "RangeIndex: 35973 entries, 0 to 35972\n",
      "Data columns (total 40 columns):\n",
      " #   Column  Non-Null Count  Dtype  \n",
      "---  ------  --------------  -----  \n",
      " 0   id      35973 non-null  int64  \n",
      " 1   DC024   35973 non-null  int64  \n",
      " 2   DC025   35973 non-null  int64  \n",
      " 3   DC205   35962 non-null  float64\n",
      " 4   DC206   35952 non-null  float64\n",
      " 5   DC207   35929 non-null  float64\n",
      " 6   DC208   35960 non-null  float64\n",
      " 7   DC209   35955 non-null  float64\n",
      " 8   DC210   35932 non-null  float64\n",
      " 9   DC211   35949 non-null  float64\n",
      " 10  DC212   35949 non-null  float64\n",
      " 11  DC213   35896 non-null  float64\n",
      " 12  DC214   35964 non-null  float64\n",
      " 13  DC215   35959 non-null  float64\n",
      " 14  DC216   35934 non-null  float64\n",
      " 15  DC217   35973 non-null  int64  \n",
      " 16  DC219   35973 non-null  int64  \n",
      " 17  DC220   35969 non-null  float64\n",
      " 18  DC226   35967 non-null  float64\n",
      " 19  DC230a  35962 non-null  float64\n",
      " 20  DC230b  32964 non-null  float64\n",
      " 21  DC232   32949 non-null  float64\n",
      " 22  DC232b  32949 non-null  float64\n",
      " 23  DC235   25527 non-null  float64\n",
      " 24  DC237   35952 non-null  float64\n",
      " 25  DC237a  35936 non-null  float64\n",
      " 26  DC237b  35936 non-null  float64\n",
      " 27  DC237c  35936 non-null  float64\n",
      " 28  DC237d  35936 non-null  float64\n",
      " 29  DC237e  35936 non-null  float64\n",
      " 30  DC237f  35936 non-null  float64\n",
      " 31  DC241   35361 non-null  float64\n",
      " 32  DC242   30599 non-null  float64\n",
      " 33  DC244   35969 non-null  float64\n",
      " 34  DC246   35964 non-null  float64\n",
      " 35  DC252   35959 non-null  float64\n",
      " 36  DC270a  35973 non-null  int64  \n",
      " 37  DC109   35962 non-null  float64\n",
      " 38  DC142a  35921 non-null  float64\n",
      " 39  DC201   35970 non-null  object \n",
      "dtypes: float64(33), int64(6), object(1)\n",
      "memory usage: 11.0+ MB\n"
     ]
    }
   ],
   "source": [
    "data_train.info()"
   ]
  },
  {
   "cell_type": "code",
   "execution_count": 7,
   "metadata": {
    "colab": {
     "base_uri": "https://localhost:8080/"
    },
    "id": "1zVsUm5QOjv4",
    "outputId": "586d6558-738d-4425-a639-99e5a4d7cceb"
   },
   "outputs": [
    {
     "data": {
      "text/plain": [
       "id        0\n",
       "DC024     0\n",
       "DC025     0\n",
       "DC205     0\n",
       "DC206     0\n",
       "DC207     0\n",
       "DC208     0\n",
       "DC209     0\n",
       "DC210     0\n",
       "DC211     0\n",
       "DC212     0\n",
       "DC213     0\n",
       "DC214     0\n",
       "DC215     0\n",
       "DC216     0\n",
       "DC217     0\n",
       "DC219     0\n",
       "DC220     0\n",
       "DC226     0\n",
       "DC230a    0\n",
       "DC230b    0\n",
       "DC232     0\n",
       "DC232b    0\n",
       "DC235     0\n",
       "DC237     0\n",
       "DC237a    0\n",
       "DC237b    0\n",
       "DC237c    0\n",
       "DC237d    0\n",
       "DC237e    0\n",
       "DC237f    0\n",
       "DC241     0\n",
       "DC242     0\n",
       "DC244     0\n",
       "DC246     0\n",
       "DC252     0\n",
       "DC270a    0\n",
       "DC109     0\n",
       "DC142a    0\n",
       "dtype: int64"
      ]
     },
     "execution_count": 7,
     "metadata": {},
     "output_type": "execute_result"
    }
   ],
   "source": [
    "data_test.isnull().sum()"
   ]
  },
  {
   "cell_type": "code",
   "execution_count": 8,
   "metadata": {
    "colab": {
     "base_uri": "https://localhost:8080/"
    },
    "id": "Kt1S-5mHOpzg",
    "outputId": "85386f80-dc0e-4280-f39f-6d659d69f6db"
   },
   "outputs": [
    {
     "data": {
      "text/plain": [
       "id            0\n",
       "DC024         0\n",
       "DC025         0\n",
       "DC205        11\n",
       "DC206        21\n",
       "DC207        44\n",
       "DC208        13\n",
       "DC209        18\n",
       "DC210        41\n",
       "DC211        24\n",
       "DC212        24\n",
       "DC213        77\n",
       "DC214         9\n",
       "DC215        14\n",
       "DC216        39\n",
       "DC217         0\n",
       "DC219         0\n",
       "DC220         4\n",
       "DC226         6\n",
       "DC230a       11\n",
       "DC230b     3009\n",
       "DC232      3024\n",
       "DC232b     3024\n",
       "DC235     10446\n",
       "DC237        21\n",
       "DC237a       37\n",
       "DC237b       37\n",
       "DC237c       37\n",
       "DC237d       37\n",
       "DC237e       37\n",
       "DC237f       37\n",
       "DC241       612\n",
       "DC242      5374\n",
       "DC244         4\n",
       "DC246         9\n",
       "DC252        14\n",
       "DC270a        0\n",
       "DC109        11\n",
       "DC142a       52\n",
       "DC201         3\n",
       "dtype: int64"
      ]
     },
     "execution_count": 8,
     "metadata": {},
     "output_type": "execute_result"
    }
   ],
   "source": [
    "data_train.isnull().sum()"
   ]
  },
  {
   "cell_type": "code",
   "execution_count": 9,
   "metadata": {
    "id": "BVsMKTtrhmIl"
   },
   "outputs": [],
   "source": [
    "data_missing = data_train.drop(['DC220','DC142a'],axis=1)"
   ]
  },
  {
   "cell_type": "code",
   "execution_count": 10,
   "metadata": {
    "id": "TL_IifvRh72m"
   },
   "outputs": [],
   "source": [
    "data_missing.fillna(data_missing.mode().iloc[0],inplace=True)"
   ]
  },
  {
   "cell_type": "code",
   "execution_count": 11,
   "metadata": {
    "id": "OqTPbT96rFEI"
   },
   "outputs": [],
   "source": [
    "data_missing.dropna(inplace=True)"
   ]
  },
  {
   "cell_type": "code",
   "execution_count": 12,
   "metadata": {
    "id": "VLhvA2QUrzUb"
   },
   "outputs": [],
   "source": [
    "X = data_missing.drop(columns=['id','DC201'])\n",
    "y = data_missing['DC201']"
   ]
  },
  {
   "cell_type": "code",
   "execution_count": 13,
   "metadata": {
    "id": "EcQzp13ojYg3"
   },
   "outputs": [],
   "source": [
    "# Split data into training, validation and test sets, ensuring the class distribution is maintained\n",
    "X_train, X_test, y_train, y_test = train_test_split(X, y, test_size=0.2, stratify=y, random_state=42)"
   ]
  },
  {
   "cell_type": "code",
   "execution_count": 12,
   "metadata": {
    "colab": {
     "base_uri": "https://localhost:8080/"
    },
    "id": "oEOK4CShZJOz",
    "outputId": "a6f49d58-f398-4e1e-ec2a-0730e64149a2"
   },
   "outputs": [
    {
     "name": "stderr",
     "output_type": "stream",
     "text": [
      "100%|██████████| 29/29 [27:01<00:00, 55.92s/it]   \n"
     ]
    },
    {
     "name": "stdout",
     "output_type": "stream",
     "text": [
      "                               Accuracy  Balanced Accuracy ROC AUC  F1 Score  \\\n",
      "Model                                                                          \n",
      "GaussianNB                         0.77               0.74    None      0.81   \n",
      "NearestCentroid                    0.78               0.73    None      0.82   \n",
      "BernoulliNB                        0.82               0.73    None      0.84   \n",
      "QuadraticDiscriminantAnalysis      0.80               0.72    None      0.83   \n",
      "DecisionTreeClassifier             0.87               0.65    None      0.87   \n",
      "LGBMClassifier                     0.91               0.62    None      0.90   \n",
      "BaggingClassifier                  0.91               0.62    None      0.89   \n",
      "LabelPropagation                   0.86               0.62    None      0.86   \n",
      "LabelSpreading                     0.86               0.62    None      0.86   \n",
      "ExtraTreeClassifier                0.86               0.61    None      0.86   \n",
      "LinearDiscriminantAnalysis         0.90               0.60    None      0.88   \n",
      "KNeighborsClassifier               0.90               0.60    None      0.88   \n",
      "PassiveAggressiveClassifier        0.87               0.60    None      0.87   \n",
      "RandomForestClassifier             0.91               0.60    None      0.89   \n",
      "AdaBoostClassifier                 0.90               0.60    None      0.88   \n",
      "ExtraTreesClassifier               0.90               0.59    None      0.88   \n",
      "CalibratedClassifierCV             0.90               0.57    None      0.88   \n",
      "Perceptron                         0.87               0.56    None      0.86   \n",
      "LogisticRegression                 0.90               0.56    None      0.88   \n",
      "SVC                                0.90               0.55    None      0.87   \n",
      "LinearSVC                          0.90               0.53    None      0.87   \n",
      "RidgeClassifier                    0.90               0.52    None      0.86   \n",
      "RidgeClassifierCV                  0.90               0.52    None      0.86   \n",
      "SGDClassifier                      0.90               0.50    None      0.86   \n",
      "DummyClassifier                    0.90               0.50    None      0.85   \n",
      "\n",
      "                               Time Taken  \n",
      "Model                                      \n",
      "GaussianNB                           1.48  \n",
      "NearestCentroid                      0.76  \n",
      "BernoulliNB                          1.83  \n",
      "QuadraticDiscriminantAnalysis        1.02  \n",
      "DecisionTreeClassifier               2.44  \n",
      "LGBMClassifier                       2.68  \n",
      "BaggingClassifier                   11.17  \n",
      "LabelPropagation                   469.55  \n",
      "LabelSpreading                     658.26  \n",
      "ExtraTreeClassifier                  1.52  \n",
      "LinearDiscriminantAnalysis           3.49  \n",
      "KNeighborsClassifier                 7.10  \n",
      "PassiveAggressiveClassifier          0.89  \n",
      "RandomForestClassifier              16.11  \n",
      "AdaBoostClassifier                  17.38  \n",
      "ExtraTreesClassifier                30.14  \n",
      "CalibratedClassifierCV             121.63  \n",
      "Perceptron                           0.82  \n",
      "LogisticRegression                   2.05  \n",
      "SVC                                239.03  \n",
      "LinearSVC                           24.74  \n",
      "RidgeClassifier                      1.42  \n",
      "RidgeClassifierCV                    1.41  \n",
      "SGDClassifier                        1.86  \n",
      "DummyClassifier                      1.14  \n"
     ]
    }
   ],
   "source": [
    "clf = LazyClassifier(verbose=0,ignore_warnings=True, custom_metric=None)\n",
    "models,predictions = clf.fit(X_train, X_test, y_train, y_test)\n",
    "\n",
    "print(models)"
   ]
  },
  {
   "cell_type": "code",
   "execution_count": 14,
   "metadata": {},
   "outputs": [],
   "source": [
    "dummies = data_missing[\"DC201\"].apply(lambda x : 1 if x == 'Layak Minum' else 0)\n",
    "\n",
    "data_missing['DC201_dummies'] = dummies"
   ]
  },
  {
   "cell_type": "code",
   "execution_count": 15,
   "metadata": {},
   "outputs": [],
   "source": [
    "Y = data_missing['DC201_dummies']"
   ]
  },
  {
   "cell_type": "code",
   "execution_count": 16,
   "metadata": {},
   "outputs": [],
   "source": [
    "# Split data into training, validation and test sets, ensuring the class distribution is maintained\n",
    "X_train, X_test, y_train, y_test = train_test_split(X, Y, test_size=0.2, stratify=y, random_state=42)"
   ]
  },
  {
   "cell_type": "code",
   "execution_count": 37,
   "metadata": {},
   "outputs": [
    {
     "name": "stdout",
     "output_type": "stream",
     "text": [
      "\n",
      "LGBMClassifier()\n"
     ]
    }
   ],
   "source": [
    "import matplotlib.pyplot as plt\n",
    "plt.style.use('ggplot')\n",
    "\n",
    "import lightgbm as ltb\n",
    "\n",
    "\n",
    "model = ltb.LGBMClassifier()\n",
    "model.fit(X_train, y_train)\n",
    "print(); print(model)\n",
    "\n",
    "expected_y  = y_test\n",
    "predicted_y = model.predict(X_test)"
   ]
  },
  {
   "cell_type": "code",
   "execution_count": 42,
   "metadata": {},
   "outputs": [
    {
     "ename": "KeyError",
     "evalue": "\"['id'] not found in axis\"",
     "output_type": "error",
     "traceback": [
      "\u001b[1;31m---------------------------------------------------------------------------\u001b[0m",
      "\u001b[1;31mKeyError\u001b[0m                                  Traceback (most recent call last)",
      "\u001b[1;32m<ipython-input-42-9f6e88cbd354>\u001b[0m in \u001b[0;36m<module>\u001b[1;34m\u001b[0m\n\u001b[1;32m----> 1\u001b[1;33m \u001b[0mdata_test\u001b[0m\u001b[1;33m.\u001b[0m\u001b[0mdrop\u001b[0m\u001b[1;33m(\u001b[0m\u001b[1;33m[\u001b[0m\u001b[1;34m'id'\u001b[0m\u001b[1;33m,\u001b[0m\u001b[1;34m'DC142a'\u001b[0m\u001b[1;33m]\u001b[0m\u001b[1;33m,\u001b[0m\u001b[0maxis\u001b[0m\u001b[1;33m=\u001b[0m\u001b[1;36m1\u001b[0m\u001b[1;33m,\u001b[0m\u001b[0minplace\u001b[0m\u001b[1;33m=\u001b[0m\u001b[1;32mTrue\u001b[0m\u001b[1;33m)\u001b[0m\u001b[1;33m\u001b[0m\u001b[1;33m\u001b[0m\u001b[0m\n\u001b[0m",
      "\u001b[1;32md:\\Program\\Anaconda3\\lib\\site-packages\\pandas\\core\\frame.py\u001b[0m in \u001b[0;36mdrop\u001b[1;34m(self, labels, axis, index, columns, level, inplace, errors)\u001b[0m\n\u001b[0;32m   4306\u001b[0m                 \u001b[0mweight\u001b[0m  \u001b[1;36m1.0\u001b[0m     \u001b[1;36m0.8\u001b[0m\u001b[1;33m\u001b[0m\u001b[1;33m\u001b[0m\u001b[0m\n\u001b[0;32m   4307\u001b[0m         \"\"\"\n\u001b[1;32m-> 4308\u001b[1;33m         return super().drop(\n\u001b[0m\u001b[0;32m   4309\u001b[0m             \u001b[0mlabels\u001b[0m\u001b[1;33m=\u001b[0m\u001b[0mlabels\u001b[0m\u001b[1;33m,\u001b[0m\u001b[1;33m\u001b[0m\u001b[1;33m\u001b[0m\u001b[0m\n\u001b[0;32m   4310\u001b[0m             \u001b[0maxis\u001b[0m\u001b[1;33m=\u001b[0m\u001b[0maxis\u001b[0m\u001b[1;33m,\u001b[0m\u001b[1;33m\u001b[0m\u001b[1;33m\u001b[0m\u001b[0m\n",
      "\u001b[1;32md:\\Program\\Anaconda3\\lib\\site-packages\\pandas\\core\\generic.py\u001b[0m in \u001b[0;36mdrop\u001b[1;34m(self, labels, axis, index, columns, level, inplace, errors)\u001b[0m\n\u001b[0;32m   4151\u001b[0m         \u001b[1;32mfor\u001b[0m \u001b[0maxis\u001b[0m\u001b[1;33m,\u001b[0m \u001b[0mlabels\u001b[0m \u001b[1;32min\u001b[0m \u001b[0maxes\u001b[0m\u001b[1;33m.\u001b[0m\u001b[0mitems\u001b[0m\u001b[1;33m(\u001b[0m\u001b[1;33m)\u001b[0m\u001b[1;33m:\u001b[0m\u001b[1;33m\u001b[0m\u001b[1;33m\u001b[0m\u001b[0m\n\u001b[0;32m   4152\u001b[0m             \u001b[1;32mif\u001b[0m \u001b[0mlabels\u001b[0m \u001b[1;32mis\u001b[0m \u001b[1;32mnot\u001b[0m \u001b[1;32mNone\u001b[0m\u001b[1;33m:\u001b[0m\u001b[1;33m\u001b[0m\u001b[1;33m\u001b[0m\u001b[0m\n\u001b[1;32m-> 4153\u001b[1;33m                 \u001b[0mobj\u001b[0m \u001b[1;33m=\u001b[0m \u001b[0mobj\u001b[0m\u001b[1;33m.\u001b[0m\u001b[0m_drop_axis\u001b[0m\u001b[1;33m(\u001b[0m\u001b[0mlabels\u001b[0m\u001b[1;33m,\u001b[0m \u001b[0maxis\u001b[0m\u001b[1;33m,\u001b[0m \u001b[0mlevel\u001b[0m\u001b[1;33m=\u001b[0m\u001b[0mlevel\u001b[0m\u001b[1;33m,\u001b[0m \u001b[0merrors\u001b[0m\u001b[1;33m=\u001b[0m\u001b[0merrors\u001b[0m\u001b[1;33m)\u001b[0m\u001b[1;33m\u001b[0m\u001b[1;33m\u001b[0m\u001b[0m\n\u001b[0m\u001b[0;32m   4154\u001b[0m \u001b[1;33m\u001b[0m\u001b[0m\n\u001b[0;32m   4155\u001b[0m         \u001b[1;32mif\u001b[0m \u001b[0minplace\u001b[0m\u001b[1;33m:\u001b[0m\u001b[1;33m\u001b[0m\u001b[1;33m\u001b[0m\u001b[0m\n",
      "\u001b[1;32md:\\Program\\Anaconda3\\lib\\site-packages\\pandas\\core\\generic.py\u001b[0m in \u001b[0;36m_drop_axis\u001b[1;34m(self, labels, axis, level, errors)\u001b[0m\n\u001b[0;32m   4186\u001b[0m                 \u001b[0mnew_axis\u001b[0m \u001b[1;33m=\u001b[0m \u001b[0maxis\u001b[0m\u001b[1;33m.\u001b[0m\u001b[0mdrop\u001b[0m\u001b[1;33m(\u001b[0m\u001b[0mlabels\u001b[0m\u001b[1;33m,\u001b[0m \u001b[0mlevel\u001b[0m\u001b[1;33m=\u001b[0m\u001b[0mlevel\u001b[0m\u001b[1;33m,\u001b[0m \u001b[0merrors\u001b[0m\u001b[1;33m=\u001b[0m\u001b[0merrors\u001b[0m\u001b[1;33m)\u001b[0m\u001b[1;33m\u001b[0m\u001b[1;33m\u001b[0m\u001b[0m\n\u001b[0;32m   4187\u001b[0m             \u001b[1;32melse\u001b[0m\u001b[1;33m:\u001b[0m\u001b[1;33m\u001b[0m\u001b[1;33m\u001b[0m\u001b[0m\n\u001b[1;32m-> 4188\u001b[1;33m                 \u001b[0mnew_axis\u001b[0m \u001b[1;33m=\u001b[0m \u001b[0maxis\u001b[0m\u001b[1;33m.\u001b[0m\u001b[0mdrop\u001b[0m\u001b[1;33m(\u001b[0m\u001b[0mlabels\u001b[0m\u001b[1;33m,\u001b[0m \u001b[0merrors\u001b[0m\u001b[1;33m=\u001b[0m\u001b[0merrors\u001b[0m\u001b[1;33m)\u001b[0m\u001b[1;33m\u001b[0m\u001b[1;33m\u001b[0m\u001b[0m\n\u001b[0m\u001b[0;32m   4189\u001b[0m             \u001b[0mresult\u001b[0m \u001b[1;33m=\u001b[0m \u001b[0mself\u001b[0m\u001b[1;33m.\u001b[0m\u001b[0mreindex\u001b[0m\u001b[1;33m(\u001b[0m\u001b[1;33m**\u001b[0m\u001b[1;33m{\u001b[0m\u001b[0maxis_name\u001b[0m\u001b[1;33m:\u001b[0m \u001b[0mnew_axis\u001b[0m\u001b[1;33m}\u001b[0m\u001b[1;33m)\u001b[0m\u001b[1;33m\u001b[0m\u001b[1;33m\u001b[0m\u001b[0m\n\u001b[0;32m   4190\u001b[0m \u001b[1;33m\u001b[0m\u001b[0m\n",
      "\u001b[1;32md:\\Program\\Anaconda3\\lib\\site-packages\\pandas\\core\\indexes\\base.py\u001b[0m in \u001b[0;36mdrop\u001b[1;34m(self, labels, errors)\u001b[0m\n\u001b[0;32m   5589\u001b[0m         \u001b[1;32mif\u001b[0m \u001b[0mmask\u001b[0m\u001b[1;33m.\u001b[0m\u001b[0many\u001b[0m\u001b[1;33m(\u001b[0m\u001b[1;33m)\u001b[0m\u001b[1;33m:\u001b[0m\u001b[1;33m\u001b[0m\u001b[1;33m\u001b[0m\u001b[0m\n\u001b[0;32m   5590\u001b[0m             \u001b[1;32mif\u001b[0m \u001b[0merrors\u001b[0m \u001b[1;33m!=\u001b[0m \u001b[1;34m\"ignore\"\u001b[0m\u001b[1;33m:\u001b[0m\u001b[1;33m\u001b[0m\u001b[1;33m\u001b[0m\u001b[0m\n\u001b[1;32m-> 5591\u001b[1;33m                 \u001b[1;32mraise\u001b[0m \u001b[0mKeyError\u001b[0m\u001b[1;33m(\u001b[0m\u001b[1;34mf\"{labels[mask]} not found in axis\"\u001b[0m\u001b[1;33m)\u001b[0m\u001b[1;33m\u001b[0m\u001b[1;33m\u001b[0m\u001b[0m\n\u001b[0m\u001b[0;32m   5592\u001b[0m             \u001b[0mindexer\u001b[0m \u001b[1;33m=\u001b[0m \u001b[0mindexer\u001b[0m\u001b[1;33m[\u001b[0m\u001b[1;33m~\u001b[0m\u001b[0mmask\u001b[0m\u001b[1;33m]\u001b[0m\u001b[1;33m\u001b[0m\u001b[1;33m\u001b[0m\u001b[0m\n\u001b[0;32m   5593\u001b[0m         \u001b[1;32mreturn\u001b[0m \u001b[0mself\u001b[0m\u001b[1;33m.\u001b[0m\u001b[0mdelete\u001b[0m\u001b[1;33m(\u001b[0m\u001b[0mindexer\u001b[0m\u001b[1;33m)\u001b[0m\u001b[1;33m\u001b[0m\u001b[1;33m\u001b[0m\u001b[0m\n",
      "\u001b[1;31mKeyError\u001b[0m: \"['id'] not found in axis\""
     ]
    }
   ],
   "source": [
    "data_test=data_test.drop(['id'],axis=1,inplace=True)"
   ]
  },
  {
   "cell_type": "code",
   "execution_count": 43,
   "metadata": {},
   "outputs": [],
   "source": [
    "data_test.drop(['DC142a'],axis=1,inplace=True)"
   ]
  },
  {
   "cell_type": "code",
   "execution_count": 44,
   "metadata": {},
   "outputs": [],
   "source": [
    "data_test.drop(['DC220'],axis=1,inplace=True)"
   ]
  },
  {
   "cell_type": "code",
   "execution_count": 45,
   "metadata": {},
   "outputs": [],
   "source": [
    "# Label Encoder\n",
    "from sklearn import preprocessing\n",
    "\n",
    "# Loop over each column in the DataFrame where dtype is 'object'\n",
    "for col in data_test.select_dtypes(include = ['object']).columns:\n",
    "  # Initialize a LabelEncoder object\n",
    "  label_encoder = preprocessing.LabelEncoder()\n",
    "  # Fit the encoder to the unique values in the column\n",
    "  label_encoder.fit(data_test[col].unique())\n",
    "  # Transform the column using the encoder\n",
    "  data_test[col] = label_encoder.transform(data_test[col])\n",
    "  # Print the column name and the unique encoded values\n",
    "  print(f\"{col}: {data_test[col].unique()}\")"
   ]
  },
  {
   "cell_type": "code",
   "execution_count": 56,
   "metadata": {},
   "outputs": [
    {
     "name": "stdout",
     "output_type": "stream",
     "text": [
      "              precision    recall  f1-score   support\n",
      "\n",
      "           0       0.65      0.26      0.37       714\n",
      "           1       0.92      0.98      0.95      6481\n",
      "\n",
      "    accuracy                           0.91      7195\n",
      "   macro avg       0.79      0.62      0.66      7195\n",
      "weighted avg       0.90      0.91      0.90      7195\n",
      "\n",
      "[[ 188  526]\n",
      " [ 102 6379]]\n"
     ]
    }
   ],
   "source": [
    "print(metrics.classification_report(expected_y, predicted_y))\n",
    "print(metrics.confusion_matrix(expected_y, predicted_y))"
   ]
  },
  {
   "cell_type": "code",
   "execution_count": 38,
   "metadata": {},
   "outputs": [
    {
     "name": "stdout",
     "output_type": "stream",
     "text": [
      "<class 'pandas.core.frame.DataFrame'>\n",
      "RangeIndex: 11990 entries, 0 to 11989\n",
      "Data columns (total 38 columns):\n",
      " #   Column  Non-Null Count  Dtype\n",
      "---  ------  --------------  -----\n",
      " 0   DC024   11990 non-null  int64\n",
      " 1   DC025   11990 non-null  int64\n",
      " 2   DC205   11990 non-null  int64\n",
      " 3   DC206   11990 non-null  int64\n",
      " 4   DC207   11990 non-null  int64\n",
      " 5   DC208   11990 non-null  int64\n",
      " 6   DC209   11990 non-null  int64\n",
      " 7   DC210   11990 non-null  int64\n",
      " 8   DC211   11990 non-null  int64\n",
      " 9   DC212   11990 non-null  int64\n",
      " 10  DC213   11990 non-null  int64\n",
      " 11  DC214   11990 non-null  int64\n",
      " 12  DC215   11990 non-null  int64\n",
      " 13  DC216   11990 non-null  int64\n",
      " 14  DC217   11990 non-null  int64\n",
      " 15  DC219   11990 non-null  int64\n",
      " 16  DC220   11990 non-null  int64\n",
      " 17  DC226   11990 non-null  int64\n",
      " 18  DC230a  11990 non-null  int64\n",
      " 19  DC230b  11990 non-null  int64\n",
      " 20  DC232   11990 non-null  int64\n",
      " 21  DC232b  11990 non-null  int64\n",
      " 22  DC235   11990 non-null  int64\n",
      " 23  DC237   11990 non-null  int64\n",
      " 24  DC237a  11990 non-null  int64\n",
      " 25  DC237b  11990 non-null  int64\n",
      " 26  DC237c  11990 non-null  int64\n",
      " 27  DC237d  11990 non-null  int64\n",
      " 28  DC237e  11990 non-null  int64\n",
      " 29  DC237f  11990 non-null  int64\n",
      " 30  DC241   11990 non-null  int64\n",
      " 31  DC242   11990 non-null  int64\n",
      " 32  DC244   11990 non-null  int64\n",
      " 33  DC246   11990 non-null  int64\n",
      " 34  DC252   11990 non-null  int64\n",
      " 35  DC270a  11990 non-null  int64\n",
      " 36  DC109   11990 non-null  int64\n",
      " 37  DC142a  11990 non-null  int64\n",
      "dtypes: int64(38)\n",
      "memory usage: 3.5 MB\n"
     ]
    }
   ],
   "source": [
    "data_test.info()"
   ]
  },
  {
   "cell_type": "code",
   "execution_count": 57,
   "metadata": {},
   "outputs": [],
   "source": [
    "y_predict= model.predict(data_test)"
   ]
  },
  {
   "cell_type": "code",
   "execution_count": 58,
   "metadata": {},
   "outputs": [
    {
     "data": {
      "text/plain": [
       "array([1, 1, 1, ..., 1, 1, 1], dtype=int64)"
      ]
     },
     "execution_count": 58,
     "metadata": {},
     "output_type": "execute_result"
    }
   ],
   "source": [
    "y_predict"
   ]
  },
  {
   "cell_type": "code",
   "execution_count": 59,
   "metadata": {},
   "outputs": [],
   "source": [
    "dc201 = pd.DataFrame({'DC201': y_predict})"
   ]
  },
  {
   "cell_type": "code",
   "execution_count": 60,
   "metadata": {},
   "outputs": [
    {
     "data": {
      "text/html": [
       "<div>\n",
       "<style scoped>\n",
       "    .dataframe tbody tr th:only-of-type {\n",
       "        vertical-align: middle;\n",
       "    }\n",
       "\n",
       "    .dataframe tbody tr th {\n",
       "        vertical-align: top;\n",
       "    }\n",
       "\n",
       "    .dataframe thead th {\n",
       "        text-align: right;\n",
       "    }\n",
       "</style>\n",
       "<table border=\"1\" class=\"dataframe\">\n",
       "  <thead>\n",
       "    <tr style=\"text-align: right;\">\n",
       "      <th></th>\n",
       "      <th>DC201</th>\n",
       "    </tr>\n",
       "  </thead>\n",
       "  <tbody>\n",
       "    <tr>\n",
       "      <th>0</th>\n",
       "      <td>1</td>\n",
       "    </tr>\n",
       "    <tr>\n",
       "      <th>1</th>\n",
       "      <td>1</td>\n",
       "    </tr>\n",
       "    <tr>\n",
       "      <th>2</th>\n",
       "      <td>1</td>\n",
       "    </tr>\n",
       "    <tr>\n",
       "      <th>3</th>\n",
       "      <td>1</td>\n",
       "    </tr>\n",
       "    <tr>\n",
       "      <th>4</th>\n",
       "      <td>1</td>\n",
       "    </tr>\n",
       "    <tr>\n",
       "      <th>...</th>\n",
       "      <td>...</td>\n",
       "    </tr>\n",
       "    <tr>\n",
       "      <th>11985</th>\n",
       "      <td>1</td>\n",
       "    </tr>\n",
       "    <tr>\n",
       "      <th>11986</th>\n",
       "      <td>1</td>\n",
       "    </tr>\n",
       "    <tr>\n",
       "      <th>11987</th>\n",
       "      <td>1</td>\n",
       "    </tr>\n",
       "    <tr>\n",
       "      <th>11988</th>\n",
       "      <td>1</td>\n",
       "    </tr>\n",
       "    <tr>\n",
       "      <th>11989</th>\n",
       "      <td>1</td>\n",
       "    </tr>\n",
       "  </tbody>\n",
       "</table>\n",
       "<p>11990 rows × 1 columns</p>\n",
       "</div>"
      ],
      "text/plain": [
       "       DC201\n",
       "0          1\n",
       "1          1\n",
       "2          1\n",
       "3          1\n",
       "4          1\n",
       "...      ...\n",
       "11985      1\n",
       "11986      1\n",
       "11987      1\n",
       "11988      1\n",
       "11989      1\n",
       "\n",
       "[11990 rows x 1 columns]"
      ]
     },
     "execution_count": 60,
     "metadata": {},
     "output_type": "execute_result"
    }
   ],
   "source": [
    "dc201"
   ]
  },
  {
   "cell_type": "code",
   "execution_count": null,
   "metadata": {},
   "outputs": [],
   "source": []
  },
  {
   "cell_type": "code",
   "execution_count": 64,
   "metadata": {},
   "outputs": [],
   "source": [
    "submission_format = pd.DataFrame([])\n",
    "\n",
    "submission_format['id'] = data_test.id\n",
    "submission_format['DC201'] = dc201\n",
    "submission_format = submission_format.set_index('id')"
   ]
  },
  {
   "cell_type": "code",
   "execution_count": null,
   "metadata": {},
   "outputs": [],
   "source": [
    "submission_format.to_csv('D:\\Widya\\Career\\Lomba\\GAMMAFEST\\water-feasibility-prediction-gammafest\\submission_format.csv')"
   ]
  },
  {
   "cell_type": "code",
   "execution_count": null,
   "metadata": {},
   "outputs": [],
   "source": []
  }
 ],
 "metadata": {
  "colab": {
   "gpuType": "T4",
   "provenance": []
  },
  "gpuClass": "standard",
  "kernelspec": {
   "display_name": "Python 3 (ipykernel)",
   "language": "python",
   "name": "python3"
  },
  "language_info": {
   "codemirror_mode": {
    "name": "ipython",
    "version": 3
   },
   "file_extension": ".py",
   "mimetype": "text/x-python",
   "name": "python",
   "nbconvert_exporter": "python",
   "pygments_lexer": "ipython3",
   "version": "3.8.8"
  }
 },
 "nbformat": 4,
 "nbformat_minor": 1
}
